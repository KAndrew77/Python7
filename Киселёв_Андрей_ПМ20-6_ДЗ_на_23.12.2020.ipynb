{
 "cells": [
  {
   "cell_type": "code",
   "execution_count": 1,
   "metadata": {},
   "outputs": [
    {
     "name": "stdout",
     "output_type": "stream",
     "text": [
      "Функция принимает два кортежа из двух элементов – координаты точек. Вывести уравнение прямой, проходящей через заданные точки. Функция должна вызывать ошибку, если переданные данные в нее некорректны (кортежи имеют не 2 элемента, типы данных не float и не integer)\n"
     ]
    }
   ],
   "source": [
    "print('Функция принимает два кортежа из двух элементов – координаты точек. Вывести уравнение прямой, проходящей через заданные точки. Функция должна вызывать ошибку, если переданные данные в нее некорректны (кортежи имеют не 2 элемента, типы данных не float и не integer)')"
   ]
  },
  {
   "cell_type": "code",
   "execution_count": 2,
   "metadata": {},
   "outputs": [],
   "source": [
    "def line(point1, point2):\n",
    "    \n",
    "    assert isinstance(point1, tuple) and isinstance(point2, tuple), 'Неверный тип данных'\n",
    "    assert len(point1) == 2 and len(point2) == 2, 'Кортеж должен иметь два элемента'\n",
    "    \n",
    "    for i in point1:\n",
    "        if not (isinstance(i, float) or isinstance(i, int)):\n",
    "            raise TypeError('Некорректный тип данных')\n",
    "    for i in point2:\n",
    "        if not (isinstance(i, float) or isinstance(i, int)):\n",
    "            raise TypeError('Некорректный тип данных')       \n",
    "    x1 = point1[0]\n",
    "    y1 = point1[1]\n",
    "    x2 = point2[0]\n",
    "    y2 = point2[1]\n",
    "    \n",
    "    ky = x1 - x2\n",
    "    kx = y1 - y2\n",
    "    b = x1*y2 - x2*y1\n",
    "    if b>0:\n",
    "        return f'{ky}y = {kx}x + {b}'\n",
    "    else:\n",
    "        return f'{ky}y = {kx}x - {-b}'"
   ]
  },
  {
   "cell_type": "code",
   "execution_count": 3,
   "metadata": {},
   "outputs": [
    {
     "data": {
      "text/plain": [
       "'12y = 12x + 12'"
      ]
     },
     "execution_count": 3,
     "metadata": {},
     "output_type": "execute_result"
    }
   ],
   "source": [
    "line((13,14),(1,2))"
   ]
  },
  {
   "cell_type": "code",
   "execution_count": 4,
   "metadata": {},
   "outputs": [
    {
     "name": "stdout",
     "output_type": "stream",
     "text": [
      "Реализовать функцию, которая вычисляет, сколько придется платить в месяц по кредиту и сколько всего отдать денег банку за весь период. Функция принимает обязательные аргументы p, n и необязательный параметр Boolean и необязательные параметры m, s. Если необязательный параметр Boolean равен True, то функция возвращает ежемесячный платеж и обязательно принимает параметр s, иначе возвращает всю сумму и обязательно принимает параметр m. Если данные параметры не передаются, вызывать ошибку. Функция должна иметь обработчик ошибок.\n",
      "\n",
      "Месячная выплата по займу вычисляется по такой загадочной формуле:\n",
      "m = (s * p * (1 + p)^n) / (12 * ((1 + p)^n – 1))\n",
      "В этой формуле:\n",
      "m - размер месячного платежа;\n",
      "s - сумма займа (кредита);\n",
      "p - процент банка, выраженный в долях единицы (т. е. если 20%, будет 0.2).\n",
      "n - количество лет, на которые берется кредит.\n",
      "\n"
     ]
    }
   ],
   "source": [
    "print('''Реализовать функцию, которая вычисляет, сколько придется платить в месяц по кредиту и сколько всего отдать денег банку за весь период. Функция принимает обязательные аргументы p, n и необязательный параметр Boolean и необязательные параметры m, s. Если необязательный параметр Boolean равен True, то функция возвращает ежемесячный платеж и обязательно принимает параметр s, иначе возвращает всю сумму и обязательно принимает параметр m. Если данные параметры не передаются, вызывать ошибку. Функция должна иметь обработчик ошибок.\n",
    "\n",
    "Месячная выплата по займу вычисляется по такой загадочной формуле:\n",
    "m = (s * p * (1 + p)^n) / (12 * ((1 + p)^n – 1))\n",
    "В этой формуле:\n",
    "m - размер месячного платежа;\n",
    "s - сумма займа (кредита);\n",
    "p - процент банка, выраженный в долях единицы (т. е. если 20%, будет 0.2).\n",
    "n - количество лет, на которые берется кредит.\n",
    "''')"
   ]
  },
  {
   "cell_type": "code",
   "execution_count": 5,
   "metadata": {},
   "outputs": [],
   "source": [
    "def credit(p, n, m, s, boolean = False ):\n",
    "    if boolean == 'True':\n",
    "        boolean = True\n",
    "    elif boolean == 'False':\n",
    "        boolean = False\n",
    "    assert (boolean == True) or (boolean == False), 'Параметр boolean может нести только True или False'\n",
    "    assert isinstance(p, float) and isinstance(n,int) and isinstance(boolean, bool), 'Неправильный тип данных'\n",
    "    assert n >= 1, 'Невозможное кол-во месяцев'\n",
    "    assert p > 0, 'Отрицательный процент невозможен'\n",
    "#     print(boolean)\n",
    "#     print(type(boolean))\n",
    "    if boolean:\n",
    "        try:\n",
    "            float(s) > 0\n",
    "            m = float(float(s) * p * (1 + p)**n) / (12 * ((1 + p)**n - 1))\n",
    "            m = round(m,4)\n",
    "            return(f'ежемясячный платеж = {m}')\n",
    "        except:\n",
    "            raise ValueError('Ошибка при вычислении формулы m; проверь введенность s')\n",
    "    else:\n",
    "        try:\n",
    "            m != ''\n",
    "            float(m) > 0\n",
    "            return(f'Сумма общих выплат составит: {float(m)*n}')\n",
    "        except:\n",
    "            raise ValueError('Ошибка при вычислении формулы m; проверь введенность s')"
   ]
  },
  {
   "cell_type": "code",
   "execution_count": 6,
   "metadata": {},
   "outputs": [
    {
     "name": "stdout",
     "output_type": "stream",
     "text": [
      "0.2\n",
      "4\n",
      "\n",
      "200\n",
      "False\n",
      "Сумма общих выплат составит: 800.0\n"
     ]
    }
   ],
   "source": [
    "p = float(input())\n",
    "n = int(input())\n",
    "s = input()\n",
    "m = input()\n",
    "boolean = input()\n",
    "print(credit(p, n, m, s, boolean))"
   ]
  },
  {
   "cell_type": "code",
   "execution_count": 7,
   "metadata": {},
   "outputs": [
    {
     "name": "stdout",
     "output_type": "stream",
     "text": [
      "даны два списка и необходимо найти их совпадающие элементы, то есть область пересечения списков - элементы, которые присутствуют в обоих списках. Дополнительно: реализовать при помощи генератора. Дополнительно2: реализовать при помощи анонимной функции\n"
     ]
    }
   ],
   "source": [
    "\n",
    "print('даны два списка и необходимо найти их совпадающие элементы, то есть область пересечения списков - элементы, которые присутствуют в обоих списках. Дополнительно: реализовать при помощи генератора. Дополнительно2: реализовать при помощи анонимной функции')"
   ]
  },
  {
   "cell_type": "code",
   "execution_count": 8,
   "metadata": {},
   "outputs": [],
   "source": [
    "\n",
    "def common1(lst1, lst2):\n",
    "    assert isinstance(lst1, list) and isinstance(lst2, list), 'Неверный тип данных'\n",
    "    lst_rez = []\n",
    "    for el in lst1:\n",
    "        if el in lst2:\n",
    "            lst_rez.append(el)\n",
    "    return lst_rez"
   ]
  },
  {
   "cell_type": "code",
   "execution_count": 9,
   "metadata": {},
   "outputs": [],
   "source": [
    "def common2(lst1, lst2):\n",
    "    assert isinstance(lst1, list) and isinstance(lst2, list), 'Неверный тип данных'\n",
    "    lst_rez = [el for el in lst1 if el in lst2]\n",
    "    return lst_rez"
   ]
  },
  {
   "cell_type": "code",
   "execution_count": 10,
   "metadata": {},
   "outputs": [],
   "source": [
    "def common3(lst1, lst2):\n",
    "    assert isinstance(lst1, list) and isinstance(lst2, list), 'Неверный тип данных'\n",
    "    lst_rez = []\n",
    "    lst_rez = list(filter(lambda el: (el in lst2), lst1))\n",
    "    return lst_rez"
   ]
  },
  {
   "cell_type": "code",
   "execution_count": 11,
   "metadata": {},
   "outputs": [
    {
     "name": "stdout",
     "output_type": "stream",
     "text": [
      "[2, 3] from common1\n",
      "[2, 3] from common2\n",
      "[2, 3] from common3\n"
     ]
    }
   ],
   "source": [
    "lst1 = [1, 2, 3]\n",
    "lst2 = [2, 3, 4]\n",
    "print(common1(lst1,lst2), 'from common1')\n",
    "print(common2(lst1,lst2), 'from common2')\n",
    "print(common3(lst1,lst2), 'from common3')"
   ]
  },
  {
   "cell_type": "code",
   "execution_count": 12,
   "metadata": {},
   "outputs": [
    {
     "name": "stdout",
     "output_type": "stream",
     "text": [
      "Отсортировать слова в строке по возрастанию их длины. Реализовать при помощи лямбда функции\n"
     ]
    }
   ],
   "source": [
    "print('Отсортировать слова в строке по возрастанию их длины. Реализовать при помощи лямбда функции')"
   ]
  },
  {
   "cell_type": "code",
   "execution_count": 13,
   "metadata": {},
   "outputs": [],
   "source": [
    "st = 'afhg khkhj ljljjl h jkkl ljljkjkjl'"
   ]
  },
  {
   "cell_type": "code",
   "execution_count": 14,
   "metadata": {},
   "outputs": [
    {
     "data": {
      "text/plain": [
       "['h', 'afhg', 'jkkl', 'khkhj', 'ljljjl', 'ljljkjkjl']"
      ]
     },
     "execution_count": 14,
     "metadata": {},
     "output_type": "execute_result"
    }
   ],
   "source": [
    "lst_st = list(st.split(' '))\n",
    "lst_st.sort( key = lambda x: len(x))\n",
    "lst_st"
   ]
  },
  {
   "cell_type": "code",
   "execution_count": 15,
   "metadata": {},
   "outputs": [
    {
     "name": "stdout",
     "output_type": "stream",
     "text": [
      "Посчитать количество одинаковых элементов в списке. Результатом является словарь. Реализовать при помощи анонимной функции.\n"
     ]
    }
   ],
   "source": [
    "print('Посчитать количество одинаковых элементов в списке. Результатом является словарь. Реализовать при помощи анонимной функции.')"
   ]
  },
  {
   "cell_type": "code",
   "execution_count": 16,
   "metadata": {},
   "outputs": [
    {
     "data": {
      "text/plain": [
       "{6: 3, 7: 1, 5: 1, 'jkk': 1, 'aa': 2}"
      ]
     },
     "execution_count": 16,
     "metadata": {},
     "output_type": "execute_result"
    }
   ],
   "source": [
    "lst = [6, 7, 6, 5, 6, 'jkk', 'aa', 'aa']\n",
    "dic_rez = {x:lst.count(x) for x in lst}\n",
    "dic_rez"
   ]
  },
  {
   "cell_type": "code",
   "execution_count": 17,
   "metadata": {},
   "outputs": [
    {
     "data": {
      "text/plain": [
       "{6: <function __main__.<dictcomp>.<lambda>(x)>,\n",
       " 7: <function __main__.<dictcomp>.<lambda>(x)>,\n",
       " 5: <function __main__.<dictcomp>.<lambda>(x)>,\n",
       " 'jkk': <function __main__.<dictcomp>.<lambda>(x)>,\n",
       " 'aa': <function __main__.<dictcomp>.<lambda>(x)>}"
      ]
     },
     "execution_count": 17,
     "metadata": {},
     "output_type": "execute_result"
    }
   ],
   "source": [
    "dic2_rez = {x:(lambda x: lst.count(x)) for x in lst}\n",
    "dic2_rez"
   ]
  },
  {
   "cell_type": "code",
   "execution_count": null,
   "metadata": {},
   "outputs": [],
   "source": []
  }
 ],
 "metadata": {
  "kernelspec": {
   "display_name": "Python 3",
   "language": "python",
   "name": "python3"
  },
  "language_info": {
   "codemirror_mode": {
    "name": "ipython",
    "version": 3
   },
   "file_extension": ".py",
   "mimetype": "text/x-python",
   "name": "python",
   "nbconvert_exporter": "python",
   "pygments_lexer": "ipython3",
   "version": "3.8.5"
  }
 },
 "nbformat": 4,
 "nbformat_minor": 4
}
